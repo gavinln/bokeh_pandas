{
 "metadata": {
  "name": "",
  "signature": "sha256:85846f2b5e3785607dc85e9ed7241ad8b6592b021b3e2aeac9a08958743a65d3"
 },
 "nbformat": 3,
 "nbformat_minor": 0,
 "worksheets": [
  {
   "cells": [
    {
     "cell_type": "code",
     "collapsed": false,
     "input": [
      "from bokeh.plotting import figure, output_server, show, push\n",
      "from bokeh.session import Session"
     ],
     "language": "python",
     "metadata": {},
     "outputs": [],
     "prompt_number": 14
    },
    {
     "cell_type": "code",
     "collapsed": false,
     "input": [
      "#prepare some data\n",
      "x = [1, 2, 3, 4, 5]\n",
      "y = [6, 7, 2, 4, 5]\n",
      "\n",
      "session = Session(\"http://localhost:5006/\")"
     ],
     "language": "python",
     "metadata": {},
     "outputs": [
      {
       "output_type": "stream",
       "stream": "stdout",
       "text": [
        "Using saved session configuration for http://localhost:5006/\n",
        "To override, pass 'load_from_config=False' to Session\n"
       ]
      }
     ],
     "prompt_number": 16
    },
    {
     "cell_type": "code",
     "collapsed": false,
     "input": [
      "output_server(\"simple_line\", url=\"http://localhost:5006/\")"
     ],
     "language": "python",
     "metadata": {},
     "outputs": [],
     "prompt_number": 17
    },
    {
     "cell_type": "code",
     "collapsed": false,
     "input": [
      "# Plot a `line` renderer\n",
      "# setting the color, line thickness, title, and legend value.\n",
      "p = figure(title=\"simple line server example\")\n",
      "p.line(x, y, legend=\"Temp.\", x_axis_label='x', y_axis_label='y')\n",
      "\n",
      "show(p)"
     ],
     "language": "python",
     "metadata": {},
     "outputs": [],
     "prompt_number": 19
    },
    {
     "cell_type": "code",
     "collapsed": false,
     "input": [],
     "language": "python",
     "metadata": {},
     "outputs": []
    }
   ],
   "metadata": {}
  }
 ]
}