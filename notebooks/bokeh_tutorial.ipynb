{
 "metadata": {
  "name": "",
  "signature": "sha256:f5a756d88a4e11a852bdd7a5f876b14545c43096573ad2b76e8d85322d7cd1c2"
 },
 "nbformat": 3,
 "nbformat_minor": 0,
 "worksheets": [
  {
   "cells": [
    {
     "cell_type": "code",
     "collapsed": false,
     "input": [
      "import numpy as np\n",
      "import bokeh\n",
      "from functools import partial\n",
      "from bokeh.plotting import *\n",
      "#output_notebook()"
     ],
     "language": "python",
     "metadata": {},
     "outputs": []
    },
    {
     "cell_type": "code",
     "collapsed": false,
     "input": [
      "from bokeh.plotting import figure, HBox, show, VBox\n",
      "from bokeh.models import Range1d"
     ],
     "language": "python",
     "metadata": {},
     "outputs": []
    },
    {
     "cell_type": "code",
     "collapsed": false,
     "input": [
      "# create some data using python lists\n",
      "x1 = [0, 1, 2, 3, 4, 5,  6,  7, 8,   9, 10]\n",
      "y1 = [0, 8, 2, 4, 6, 9, 15, 18, 19, 25, 28]"
     ],
     "language": "python",
     "metadata": {},
     "outputs": []
    },
    {
     "cell_type": "code",
     "collapsed": false,
     "input": [
      "x2 = x1\n",
      "y2 = [ 2,  5,  2, 13, 17,  9,  9, 14, 18, 14,  2]\n",
      "x3 = x1\n",
      "y3 = [14, 22, 16, 26, 11, 16, 18, 12, 11, 20, 23]\n",
      "# np.random.random_integers(0, 30, size=data_length)"
     ],
     "language": "python",
     "metadata": {},
     "outputs": []
    },
    {
     "cell_type": "code",
     "collapsed": false,
     "input": [
      "#session = Session()\n",
      "#session.use_doc('line')\n",
      "#document = Document()"
     ],
     "language": "python",
     "metadata": {},
     "outputs": []
    },
    {
     "cell_type": "code",
     "collapsed": false,
     "input": [
      "plot = figure(plot_width=300, plot_height=300)\n",
      "plot.line(x1, y1, size=12, color=\"red\", alpha=0.5, line_width=4,\n",
      "        line_dash='dotdash')\n",
      "#document.add(plot)\n",
      "#session.store_document(document)\n",
      "output_server('plot')"
     ],
     "language": "python",
     "metadata": {},
     "outputs": []
    },
    {
     "cell_type": "code",
     "collapsed": false,
     "input": [
      "show()"
     ],
     "language": "python",
     "metadata": {},
     "outputs": []
    },
    {
     "cell_type": "code",
     "collapsed": false,
     "input": [
      "def line_plot(fig, x, y, color):\n",
      "    return fig.line(x, y, size=12, color=color, alpha=0.5, line_width=4, line_dash='dotdash')\n",
      "    \n",
      "figureFn = partial(figure, plot_width=300, plot_height=300)    \n",
      "\n",
      "line_plotFn = partial(line_plot, figureFn())\n",
      "    \n",
      "fig1 = line_plot(figureFn(), x1, y1, 'red')\n",
      "fig2 = line_plot(figureFn(), x2, y2, 'blue')\n",
      "fig3 = line_plot(figureFn(), x3, y3, 'green')\n",
      "\n",
      "fig = line_plotFn(x1, y1, 'red')\n",
      "fig = line_plotFn(x2, y2, 'blue')\n",
      "fig = line_plotFn(x3, y3, 'green')\n",
      "show(VBox(HBox(fig1, fig2, fig3), fig))"
     ],
     "language": "python",
     "metadata": {},
     "outputs": []
    },
    {
     "cell_type": "code",
     "collapsed": false,
     "input": [],
     "language": "python",
     "metadata": {},
     "outputs": []
    }
   ],
   "metadata": {}
  }
 ]
}